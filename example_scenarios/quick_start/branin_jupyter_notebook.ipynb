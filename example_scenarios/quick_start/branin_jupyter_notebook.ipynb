{
 "cells": [
  {
   "cell_type": "markdown",
   "metadata": {},
   "source": [
    "# HyperMapper Demo"
   ]
  },
  {
   "cell_type": "markdown",
   "metadata": {},
   "source": [
    "You are looking for a parameter setting that minimizes some performance metric of your algorithm (such as runtime, error, or cost). To use HyperMapper for this purpose you need to tell it about your parameters and how to evaluate your algorithm's performance. Here, we will show how to do this on a running example using a simple algorithm called the Branin function. We look for minimizing the value of this function given the two parameters x1 and x2."
   ]
  },
  {
   "cell_type": "markdown",
   "metadata": {},
   "source": [
    "https://www.sfu.ca/~ssurjano/branin.html"
   ]
  },
  {
   "cell_type": "markdown",
   "metadata": {},
   "source": [
    "### The Branin Black-box Function"
   ]
  },
  {
   "cell_type": "markdown",
   "metadata": {},
   "source": [
    "Consider the Branin black-box function evaluation (which depends on the input variables x1 and x2), this is the objective we want to minimize:"
   ]
  },
  {
   "cell_type": "code",
   "execution_count": 1,
   "metadata": {},
   "outputs": [],
   "source": [
    "import math\n",
    "def branin_function(X):\n",
    "    x1 = X['x1']\n",
    "    x2 = X['x2']\n",
    "    a = 1.0\n",
    "    b = 5.1 / (4.0 * math.pi * math.pi)\n",
    "    c = 5.0 / math.pi\n",
    "    r = 6.0\n",
    "    s = 10.0\n",
    "    t = 1.0 / (8.0 * math.pi)\n",
    "    y_value = a * (x2 - b * x1 * x1 + c * x1 - r) ** 2 + s * (1 - t) * math.cos(x1) + s\n",
    "    return y_value"
   ]
  },
  {
   "cell_type": "markdown",
   "metadata": {},
   "source": [
    "### Setup HyperMapper to Run on Branin"
   ]
  },
  {
   "cell_type": "markdown",
   "metadata": {},
   "source": [
    "The inputs to HyperMapper specify an instance of the software configuration problem. In this quick start guide, we are showing how to optimize the Branin function value. The following is what needs to be specified as a json syntax to run Branin:"
   ]
  },
  {
   "cell_type": "raw",
   "metadata": {},
   "source": [
    "{\n",
    "    \"application_name\": \"branin\",\n",
    "    \"optimization_objectives\": [\"Value\"],\n",
    "    \"optimization_iterations\": 20,\n",
    "    \"input_parameters\" : {\n",
    "        \"x1\": {\n",
    "            \"parameter_type\" : \"real\",\n",
    "            \"values\" : [-5, 10],\n",
    "            \"parameter_default\" : 0\n",
    "        },\n",
    "        \"x2\": {\n",
    "            \"parameter_type\" : \"real\",\n",
    "            \"values\" : [0, 15],\n",
    "            \"parameter_default\" : 0\n",
    "        }\n",
    "    }\n",
    "}"
   ]
  },
  {
   "cell_type": "markdown",
   "metadata": {},
   "source": [
    "We create the json in python and then dump it on a file: "
   ]
  },
  {
   "cell_type": "code",
   "execution_count": 2,
   "metadata": {},
   "outputs": [],
   "source": [
    "import json\n",
    "scenario = {}\n",
    "scenario[\"application_name\"] = \"branin\"\n",
    "scenario[\"optimization_objectives\"] = [\"Value\"]\n",
    "scenario[\"optimization_iterations\"] = 20\n",
    "scenario[\"input_parameters\"] = {}\n",
    "\n",
    "x1 = {}\n",
    "x1[\"parameter_type\"] = \"real\"\n",
    "x1[\"values\"] = [-5, 10]\n",
    "\n",
    "x2 = {}\n",
    "x2[\"parameter_type\"] = \"real\"\n",
    "x2[\"values\"] = [0, 15]\n",
    "\n",
    "scenario[\"input_parameters\"][\"x1\"] = x1\n",
    "scenario[\"input_parameters\"][\"x2\"] = x2\n",
    "\n",
    "with open(\"example_branin_scenario.json\", \"w\") as scenario_file:\n",
    "    json.dump(scenario, scenario_file, indent=4)\n"
   ]
  },
  {
   "cell_type": "markdown",
   "metadata": {},
   "source": [
    "### Run HyperMapper"
   ]
  },
  {
   "cell_type": "markdown",
   "metadata": {},
   "source": [
    "You are all set to run Branin and HyperMapper together!\n",
    "\n",
    "To optimize the branin function, call HyperMapper's optimize method with the json file and the branin function as parameters:"
   ]
  },
  {
   "cell_type": "code",
   "execution_count": 5,
   "metadata": {},
   "outputs": [
    {
     "name": "stdout",
     "output_type": "stream",
     "text": [
      "Design of experiment phase, number of new doe samples = 10 .......\n",
      "x1,x2,Value,Timestamp\n",
      "9.11976743314867,2.443128791315947,0.8866212253875805,8\n",
      "0.8387652673182204,1.9266559430895196,24.422772840095394,8\n",
      "4.834998870202446,9.014801610563675,70.30996478332403,8\n",
      "1.9767922560411897,11.212840448885306,67.89606513631693,8\n",
      "4.741343697409674,0.9249803598663252,10.46551858702294,8\n",
      "-2.487239284370818,13.607908627823115,10.50471048339044,9\n",
      "-0.321636549109499,13.727109194835936,70.97627538078851,9\n",
      "3.459581465806309,2.1885167532467937,0.9013128192680906,9\n",
      "-4.639186747707354,0.07493474244372661,268.1496697235953,9\n",
      "6.701251536388387,13.051451497071831,160.75583305847707,9\n",
      "\n",
      "\n",
      "End of doe/resume phase, the number of evaluated configurations is: 10\n",
      "\n",
      "Starting optimization iteration 1\n",
      "x1,x2,Value,Timestamp\n",
      "4.2320157877855955,0.13557526939988462,7.644009500138166,566\n",
      "\n",
      "Starting optimization iteration 2\n",
      "x1,x2,Value,Timestamp\n",
      "4.536034870050344,3.158207145774022,11.272004982715867,577\n",
      "\n",
      "Starting optimization iteration 3\n",
      "x1,x2,Value,Timestamp\n",
      "3.8597568297263685,0.10206778823562661,5.59016356761708,1159\n",
      "\n",
      "Starting optimization iteration 4\n",
      "x1,x2,Value,Timestamp\n",
      "3.5562282221606427,0.029917552368620932,4.9904222898844015,1726\n",
      "\n",
      "Starting optimization iteration 5\n",
      "x1,x2,Value,Timestamp\n",
      "6.1301733719968805,2.275647732180555,20.876417734718633,1743\n",
      "\n",
      "Starting optimization iteration 6\n",
      "x1,x2,Value,Timestamp\n",
      "3.6954841767365583,0.02470398417243131,5.285616090551142,2212\n",
      "\n",
      "Starting optimization iteration 7\n",
      "x1,x2,Value,Timestamp\n",
      "3.6011425742651966,0.01652058274979414,5.108867921226771,2644\n",
      "\n",
      "Starting optimization iteration 8\n",
      "x1,x2,Value,Timestamp\n",
      "8.72451938297523,0.001983521248865141,6.443172351131073,3139\n",
      "\n",
      "Starting optimization iteration 9\n",
      "x1,x2,Value,Timestamp\n",
      "-0.7140218270996366,0.04425881507733725,68.49366591480769,3641\n",
      "\n",
      "Starting optimization iteration 10\n",
      "x1,x2,Value,Timestamp\n",
      "-2.753892959525411,0.018859513440467456,129.7928669071955,4069\n",
      "\n",
      "Starting optimization iteration 11\n",
      "x1,x2,Value,Timestamp\n",
      "7.243414739727257,0.09753323490419451,16.832637158262123,4457\n",
      "\n",
      "Starting optimization iteration 12\n",
      "x1,x2,Value,Timestamp\n",
      "10,0.07436249610943249,10.519804118735909,4815\n",
      "\n",
      "Starting optimization iteration 13\n",
      "x1,x2,Value,Timestamp\n",
      "4.082529136780652,0.07555896312134151,6.8405101445690235,5200\n",
      "\n",
      "Starting optimization iteration 14\n",
      "x1,x2,Value,Timestamp\n",
      "-0.15553468861948083,3.5043446936853004,27.028486150712563,5213\n",
      "\n",
      "Starting optimization iteration 15\n",
      "x1,x2,Value,Timestamp\n",
      "8.118520878227141,1.6354559261712782,7.491141944184845,5229\n",
      "\n",
      "Starting optimization iteration 16\n",
      "x1,x2,Value,Timestamp\n",
      "-1.53230038762581,0.01661209879833003,86.50281526150498,5651\n",
      "\n",
      "Starting optimization iteration 17\n",
      "x1,x2,Value,Timestamp\n",
      "-2.5925719310279836,1.9542561411593988,83.53525892554028,6068\n",
      "\n",
      "Starting optimization iteration 18\n",
      "x1,x2,Value,Timestamp\n",
      "-3.706444930667699,13.436263607838919,1.9457783451597717,6496\n",
      "\n",
      "Starting optimization iteration 19\n",
      "x1,x2,Value,Timestamp\n",
      "10,0.0750694821396535,10.515663668318519,6873\n",
      "\n",
      "Starting optimization iteration 20\n",
      "x1,x2,Value,Timestamp\n",
      "3.105656675761997,1.7749415337658763,0.68313512569142,6887\n",
      "\n",
      "End of Bayesian Optimization\n",
      "Best point found:\n",
      "x1,x2,Value\n",
      "3.105656675761997,1.7749415337658763,0.68313512569142\n",
      "\n",
      "End of HyperMapper\n"
     ]
    }
   ],
   "source": [
    "import sys\n",
    "sys.path.append('../../scripts')\n",
    "import hypermapper\n",
    "\n",
    "parameters_file = \"example_branin_scenario.json\"\n",
    "hypermapper.optimizer.optimize(parameters_file, branin_function)\n"
   ]
  },
  {
   "cell_type": "markdown",
   "metadata": {},
   "source": [
    "The result of this script is a csv file called \"branin_output_samples.csv\". You can find all the samples explored by HyperMapper during optimization in this file."
   ]
  },
  {
   "cell_type": "markdown",
   "metadata": {},
   "source": [
    "### Visualize Results"
   ]
  },
  {
   "cell_type": "markdown",
   "metadata": {},
   "source": [
    "We can visualize the optimization process with a scatterplot of the points explored during optimization. The code below plots the points explored by HyperMapper during optimization. "
   ]
  },
  {
   "cell_type": "code",
   "execution_count": 6,
   "metadata": {},
   "outputs": [
    {
     "data": {
      "image/png": "[encoded data removed]",
      "text/plain": [
       "<Figure size 640x480 with 1 Axes>"
      ]
     },
     "metadata": {},
     "output_type": "display_data"
    }
   ],
   "source": [
    "import matplotlib as mpl\n",
    "import matplotlib.pyplot as plt\n",
    "import pandas as pd\n",
    "%matplotlib inline\n",
    "\n",
    "sampled_points = pd.read_csv(\"branin_output_samples.csv\", usecols=['x1', 'x2'])\n",
    "\n",
    "x_points = sampled_points['x1'].values\n",
    "y_points = sampled_points['x2'].values\n",
    "\n",
    "doe_x = x_points[:10]\n",
    "doe_y = y_points[:10]\n",
    "bo_x = x_points[10:]\n",
    "bo_y = y_points[10:]\n",
    "bo_iterations = list(range(len(bo_x)))\n",
    "\n",
    "point_size = mpl.rcParams['lines.markersize']**1.8\n",
    "\n",
    "cmap = plt.get_cmap('winter')\n",
    "plt.scatter(doe_x, doe_y, s=point_size, marker='.', color=\"red\")\n",
    "plt.scatter(bo_x, bo_y, s=point_size, marker='.', c=bo_iterations, cmap=cmap)\n",
    "\n",
    "# Optima for the Branin function\n",
    "op_x = [-3.141, 3.14, 9.425]\n",
    "op_y = [12.275, 2.275, 2.475]\n",
    "plt.scatter(op_x, op_y, s=point_size**1.5, marker='x', color='green')\n",
    "\n",
    "plt.xlabel(\"x1\")\n",
    "plt.ylabel(\"x2\")\n",
    "plt.show()"
   ]
  },
  {
   "cell_type": "markdown",
   "metadata": {},
   "source": [
    "Red dots show points explored during the design of experiments phase. \n",
    "Blue points show points explored during optimization, with brighter points denoting points explored in later iterations. \n",
    "\n",
    "For this example, we also show the three global optima of the Branin function with green Xs."
   ]
  },
  {
   "cell_type": "code",
   "execution_count": null,
   "metadata": {},
   "outputs": [],
   "source": []
  },
  {
   "cell_type": "code",
   "execution_count": null,
   "metadata": {},
   "outputs": [],
   "source": []
  }
 ],
 "metadata": {
  "kernelspec": {
   "display_name": "Python 3",
   "language": "python",
   "name": "python3"
  },
  "language_info": {
   "codemirror_mode": {
    "name": "ipython",
    "version": 3
   },
   "file_extension": ".py",
   "mimetype": "text/x-python",
   "name": "python",
   "nbconvert_exporter": "python",
   "pygments_lexer": "ipython3",
   "version": "3.7.16"
  }
 },
 "nbformat": 4,
 "nbformat_minor": 2
}
